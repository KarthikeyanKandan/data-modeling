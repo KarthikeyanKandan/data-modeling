{
 "cells": [
  {
   "cell_type": "code",
   "execution_count": 2,
   "metadata": {},
   "outputs": [],
   "source": [
    "import psycopg2"
   ]
  },
  {
   "cell_type": "code",
   "execution_count": 3,
   "metadata": {},
   "outputs": [],
   "source": [
    "try:\n",
    "    conn = psycopg2.connect(\"dbname = studentdb user = postgres password = akash99\")\n",
    "except psycopg2.Error as e:\n",
    "    print(e)"
   ]
  },
  {
   "cell_type": "code",
   "execution_count": 4,
   "metadata": {},
   "outputs": [],
   "source": [
    "try:\n",
    "    cur = conn.cursor()\n",
    "except psycopg2.Error as e:\n",
    "    print(e)\n",
    "conn.set_session(autocommit = True)"
   ]
  },
  {
   "cell_type": "code",
   "execution_count": 5,
   "metadata": {
    "scrolled": true
   },
   "outputs": [],
   "source": [
    "try:\n",
    "    cur.execute(\"CREATE TABLE IF NOT EXISTS music_library (album_id int, album_name varchar, \\\n",
    "    artist_name varchar, year int, songs text[]);\")\n",
    "except psycopg2.Error as e:\n",
    "    print(e)"
   ]
  },
  {
   "cell_type": "code",
   "execution_count": 12,
   "metadata": {},
   "outputs": [],
   "source": [
    "try:\n",
    "    cur.execute(\"INSERT INTO music_library (album_id, album_name, artist_name, year, songs) \\\n",
    "    VALUES (%s,%s,%s,%s,%s)\", \\\n",
    "    (1, \"Rubber Soul\", \"The Beatles\", 1965, [\"Michelle\", \"Think For Yourself\", \"In My Life\"]))\n",
    "except psycopg2.Error as e:\n",
    "    print(e)"
   ]
  },
  {
   "cell_type": "code",
   "execution_count": 13,
   "metadata": {},
   "outputs": [],
   "source": [
    "try:\n",
    "    cur.execute(\"INSERT INTO music_library (album_id, album_name, artist_name, year, songs) \\\n",
    "    VALUES (%s,%s,%s,%s,%s)\", \\\n",
    "    (2, \"Let It Be\", \"The Beatles\", 1970, [\"Let It Be\",\"Across The Universe\"]))\n",
    "except psycopg2.Error as e:\n",
    "    print(e)"
   ]
  },
  {
   "cell_type": "code",
   "execution_count": 14,
   "metadata": {},
   "outputs": [
    {
     "name": "stdout",
     "output_type": "stream",
     "text": [
      "(1, 'Rubber Soul', 'The Beatles', 1965, ['Michelle', 'Think For Yourself', 'In My Life'])\n",
      "(2, 'Let It Be', 'The Beatles', 1970, ['Let It Be', 'Across The Universe'])\n"
     ]
    }
   ],
   "source": [
    "try:\n",
    "    cur.execute(\"SELECT * FROM music_library\")\n",
    "except psycopg2.Error as e:\n",
    "    print(e)\n",
    "row = cur.fetchone()\n",
    "while row:\n",
    "    print(row)\n",
    "    row = cur.fetchone()"
   ]
  },
  {
   "cell_type": "code",
   "execution_count": 15,
   "metadata": {},
   "outputs": [
    {
     "name": "stdout",
     "output_type": "stream",
     "text": [
      "(1, 'Rubber Soul', 'The Beatles', 1965, ['Michelle', 'Think For Yourself', 'In My Life'])\n",
      "(2, 'Let It Be', 'The Beatles', 1970, ['Let It Be', 'Across The Universe'])\n"
     ]
    }
   ],
   "source": [
    "try:\n",
    "    cur.execute(\"SELECT * FROM music_library\")\n",
    "except psycopg2.Error as e:\n",
    "    print(e)\n",
    "row = cur.fetchone()\n",
    "while row:\n",
    "    print(row)\n",
    "    row = cur.fetchone()"
   ]
  },
  {
   "cell_type": "code",
   "execution_count": 16,
   "metadata": {},
   "outputs": [],
   "source": [
    "#to achieve 1NF\n",
    "try:\n",
    "    cur.execute(\"CREATE TABLE IF NOT EXISTS music_library2 (album_id int, album_name varchar, \\\n",
    "    artist_name varchar, year int, song_name varchar);\")\n",
    "except psycopg2.Error as e:\n",
    "    print(e)"
   ]
  },
  {
   "cell_type": "code",
   "execution_count": 18,
   "metadata": {},
   "outputs": [],
   "source": [
    "try:\n",
    "    cur.execute(\"INSERT INTO music_library2 (album_id, album_name, artist_name, year, song_name) \\\n",
    "    VALUES (%s,%s,%s,%s,%s)\", \\\n",
    "    (1, \"Rubber Soul\", \"The Beatles\", 1965, \"Michelle\"))\n",
    "except psycopg2.Error as e:\n",
    "    print(e)\n",
    "try:\n",
    "    cur.execute(\"INSERT INTO music_library2 (album_id, album_name, artist_name, year, song_name) \\\n",
    "    VALUES (%s,%s,%s,%s,%s)\", \\\n",
    "    (1, \"Rubber Soul\", \"The Beatles\", 1965, \"Think For Yourself\"))\n",
    "except psycopg2.Error as e:\n",
    "    print(e)\n",
    "try:\n",
    "    cur.execute(\"INSERT INTO music_library2 (album_id, album_name, artist_name, year, song_name) \\\n",
    "    VALUES (%s,%s,%s,%s,%s)\", \\\n",
    "    (1, \"Rubber Soul\", \"The Beatles\", 1965, \"In My Life\"))\n",
    "except psycopg2.Error as e:\n",
    "    print(e)\n",
    "try:\n",
    "    cur.execute(\"INSERT INTO music_library2 (album_id, album_name, artist_name, year, song_name) \\\n",
    "    VALUES (%s,%s,%s,%s,%s)\", \\\n",
    "    (2, \"Let It Be\", \"The Beatles\", 1970, \"Let It Be\"))\n",
    "except psycopg2.Error as e:\n",
    "    print(e)\n",
    "try:\n",
    "    cur.execute(\"INSERT INTO music_library2 (album_id, album_name, artist_name, year, song_name) \\\n",
    "    VALUES (%s,%s,%s,%s,%s)\", \\\n",
    "    (2, \"Let It Be\", \"The Beatles\", 1970, \"Across The Universe\"))\n",
    "except psycopg2.Error as e:\n",
    "    print(e)"
   ]
  },
  {
   "cell_type": "code",
   "execution_count": 19,
   "metadata": {},
   "outputs": [
    {
     "name": "stdout",
     "output_type": "stream",
     "text": [
      "(1, 'Rubber Soul', 'The Beatles', 1965, 'Michelle')\n",
      "(1, 'Rubber Soul', 'The Beatles', 1965, 'Think For Yourself')\n",
      "(1, 'Rubber Soul', 'The Beatles', 1965, 'In My Life')\n",
      "(2, 'Let It Be', 'The Beatles', 1970, 'Let It Be')\n",
      "(2, 'Let It Be', 'The Beatles', 1970, 'Across The Universe')\n"
     ]
    }
   ],
   "source": [
    "#1NF satisfied : 1. automicity satisfied\n",
    "try:\n",
    "    cur.execute(\"SELECT * FROM music_library2\")\n",
    "except psycopg2.Error as e:\n",
    "    print(e)\n",
    "row = cur.fetchone()\n",
    "while row:\n",
    "    print(row)\n",
    "    row = cur.fetchone()"
   ]
  },
  {
   "cell_type": "code",
   "execution_count": 20,
   "metadata": {},
   "outputs": [],
   "source": [
    "#trying to achieve 2NF\n",
    "try:\n",
    "    cur.execute(\"CREATE TABLE IF NOT EXISTS album_library \\\n",
    "    (album_id int, album_name varchar, artist_name varchar, year int)\")\n",
    "except psycopg2.Error as e:\n",
    "    print(e)"
   ]
  },
  {
   "cell_type": "code",
   "execution_count": 21,
   "metadata": {},
   "outputs": [],
   "source": [
    "try:\n",
    "    cur.execute(\"INSERT INTO album_library (album_id, album_name, artist_name, year) \\\n",
    "    VALUES (%s,%s,%s,%s)\", \\\n",
    "    (1, \"Rubber Soul\", \"The Beatles\", 1965))\n",
    "except psycopg2.Error as e:\n",
    "    print(e)\n",
    "try:\n",
    "    cur.execute(\"INSERT INTO album_library (album_id, album_name, artist_name, year) \\\n",
    "    VALUES (%s,%s,%s,%s)\", \\\n",
    "    (2, \"Let It Be\", \"The Beatles\", 1970))\n",
    "except psycopg2.Error as e:\n",
    "    print(e)"
   ]
  },
  {
   "cell_type": "code",
   "execution_count": 22,
   "metadata": {},
   "outputs": [],
   "source": [
    "try:\n",
    "    cur.execute(\"CREATE TABLE IF NOT EXISTS song_library \\\n",
    "    (song_id int, album_id int, song_name varchar)\")\n",
    "except psycopg2.Error as e:\n",
    "    print(e)"
   ]
  },
  {
   "cell_type": "code",
   "execution_count": 23,
   "metadata": {},
   "outputs": [],
   "source": [
    "try:\n",
    "    cur.execute(\"INSERT INTO song_library (song_id, album_id, song_name) \\\n",
    "    VALUES (%s,%s,%s)\", \\\n",
    "    (1, 1, \"Michelle\"))\n",
    "except psycopg2.Error as e:\n",
    "    print(e)\n",
    "try:\n",
    "    cur.execute(\"INSERT INTO song_library (song_id, album_id, song_name) \\\n",
    "    VALUES (%s,%s,%s)\", \\\n",
    "    (2, 1, \"Think For Yourself\"))\n",
    "except psycopg2.Error as e:\n",
    "    print(e)\n",
    "try:\n",
    "    cur.execute(\"INSERT INTO song_library (song_id, album_id, song_name) \\\n",
    "    VALUES (%s,%s,%s)\", \\\n",
    "    (3, 1, \"In My Life\"))\n",
    "except psycopg2.Error as e:\n",
    "    print(e)\n",
    "try:\n",
    "    cur.execute(\"INSERT INTO song_library (song_id, album_id, song_name) \\\n",
    "    VALUES (%s,%s,%s)\", \\\n",
    "    (4, 2, \"Let It Be\"))\n",
    "except psycopg2.Error as e:\n",
    "    print(e)\n",
    "try:\n",
    "    cur.execute(\"INSERT INTO song_library (song_id, album_id, song_name) \\\n",
    "    VALUES (%s,%s,%s)\", \\\n",
    "    (5, 2, \"Across The Universe\"))\n",
    "except psycopg2.Error as e:\n",
    "    print(e)"
   ]
  },
  {
   "cell_type": "code",
   "execution_count": 24,
   "metadata": {},
   "outputs": [
    {
     "name": "stdout",
     "output_type": "stream",
     "text": [
      "(1, 'Rubber Soul', 'The Beatles', 1965)\n",
      "(2, 'Let It Be', 'The Beatles', 1970)\n"
     ]
    }
   ],
   "source": [
    "try:\n",
    "    cur.execute(\"SELECT * FROM album_library\")\n",
    "except psycopg2.Error as e:\n",
    "    print(e)\n",
    "row = cur.fetchone()\n",
    "while row:\n",
    "    print(row)\n",
    "    row = cur.fetchone()"
   ]
  },
  {
   "cell_type": "code",
   "execution_count": 25,
   "metadata": {},
   "outputs": [
    {
     "name": "stdout",
     "output_type": "stream",
     "text": [
      "(1, 1, 'Michelle')\n",
      "(2, 1, 'Think For Yourself')\n",
      "(3, 1, 'In My Life')\n",
      "(4, 2, 'Let It Be')\n",
      "(5, 2, 'Across The Universe')\n"
     ]
    }
   ],
   "source": [
    "try:\n",
    "    cur.execute(\"SELECT * FROM song_library\")\n",
    "except psycopg2.Error as e:\n",
    "    print(e)\n",
    "row = cur.fetchone()\n",
    "while row:\n",
    "    print(row)\n",
    "    row = cur.fetchone()"
   ]
  },
  {
   "cell_type": "code",
   "execution_count": 27,
   "metadata": {},
   "outputs": [
    {
     "name": "stdout",
     "output_type": "stream",
     "text": [
      "(1965, 'Michelle')\n",
      "(1965, 'Think For Yourself')\n",
      "(1965, 'In My Life')\n",
      "(1970, 'Let It Be')\n",
      "(1970, 'Across The Universe')\n"
     ]
    }
   ],
   "source": [
    "#just a basic join to check the relation \n",
    "\n",
    "try:\n",
    "    cur.execute(\"SELECT a.year, s.song_name FROM album_library a JOIN song_library s ON a.album_id = s.album_id\")\n",
    "except psycopg2.Error as e:\n",
    "    print(e)\n",
    "row = cur.fetchone()\n",
    "while row:\n",
    "    print(row)\n",
    "    row = cur.fetchone()"
   ]
  },
  {
   "cell_type": "code",
   "execution_count": 29,
   "metadata": {},
   "outputs": [],
   "source": [
    "#2NF successfully achieved"
   ]
  },
  {
   "cell_type": "code",
   "execution_count": null,
   "metadata": {},
   "outputs": [],
   "source": [
    "#Moving on with 3NF\n"
   ]
  }
 ],
 "metadata": {
  "kernelspec": {
   "display_name": "Python 3",
   "language": "python",
   "name": "python3"
  },
  "language_info": {
   "codemirror_mode": {
    "name": "ipython",
    "version": 3
   },
   "file_extension": ".py",
   "mimetype": "text/x-python",
   "name": "python",
   "nbconvert_exporter": "python",
   "pygments_lexer": "ipython3",
   "version": "3.8.5"
  }
 },
 "nbformat": 4,
 "nbformat_minor": 4
}

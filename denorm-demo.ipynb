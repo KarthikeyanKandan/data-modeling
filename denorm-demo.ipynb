{
 "cells": [
  {
   "cell_type": "code",
   "execution_count": 1,
   "metadata": {},
   "outputs": [],
   "source": [
    "import psycopg2"
   ]
  },
  {
   "cell_type": "code",
   "execution_count": 4,
   "metadata": {},
   "outputs": [],
   "source": [
    "try:\n",
    "    conn = psycopg2.connect(\"dbname=studentdb user=postgres password=akash99\")\n",
    "except psycopg2.Error as e:\n",
    "    print(e)"
   ]
  },
  {
   "cell_type": "code",
   "execution_count": null,
   "metadata": {},
   "outputs": [],
   "source": []
  },
  {
   "cell_type": "code",
   "execution_count": 6,
   "metadata": {},
   "outputs": [],
   "source": [
    "cur = conn.cursor()"
   ]
  },
  {
   "cell_type": "code",
   "execution_count": 8,
   "metadata": {},
   "outputs": [],
   "source": [
    "conn.set_session(autocommit=True)"
   ]
  },
  {
   "cell_type": "code",
   "execution_count": 9,
   "metadata": {},
   "outputs": [
    {
     "data": {
      "text/plain": [
       "[(1, 'Rubber Soul', 1, 1965, 1, 'The Beatles', 1, 1, 'Michelle'),\n",
       " (1, 'Rubber Soul', 1, 1965, 1, 'The Beatles', 2, 1, 'Think For Yourself'),\n",
       " (1, 'Rubber Soul', 1, 1965, 1, 'The Beatles', 3, 1, 'In My Life'),\n",
       " (2, 'Let It Be', 1, 1970, 1, 'The Beatles', 4, 2, 'Let It Be'),\n",
       " (2, 'Let It Be', 1, 1970, 1, 'The Beatles', 5, 2, 'Across The Universe')]"
      ]
     },
     "execution_count": 9,
     "metadata": {},
     "output_type": "execute_result"
    }
   ],
   "source": [
    "cur.execute(\"SELECT * FROM album_library2 ab \\\n",
    "JOIN artist_library ar \\\n",
    "ON ab.artist_id = ar.artist_id \\\n",
    "JOIN song_library2 s \\\n",
    "ON s.album_id = ab.album_id\")\n",
    "cur.fetchall()"
   ]
  },
  {
   "cell_type": "code",
   "execution_count": 11,
   "metadata": {},
   "outputs": [],
   "source": [
    "try:\n",
    "    cur.execute(\"CREATE TABLE IF NOT EXISTS song_length (song_id int, song_length int)\")\n",
    "except psycopg2.Error as e:\n",
    "    print(e)"
   ]
  },
  {
   "cell_type": "code",
   "execution_count": 13,
   "metadata": {},
   "outputs": [],
   "source": [
    "try:\n",
    "    cur.execute(\"INSERT INTO song_length (song_id, song_length) \\\n",
    "    VALUES(%s,%s)\", (1,163))\n",
    "except psycopg2.Error as e:\n",
    "    print(e)"
   ]
  },
  {
   "cell_type": "code",
   "execution_count": 14,
   "metadata": {},
   "outputs": [],
   "source": [
    "try:\n",
    "    cur.execute(\"INSERT INTO song_length (song_id, song_length) \\\n",
    "    VALUES(%s,%s)\", (2,137))\n",
    "except psycopg2.Error as e:\n",
    "    print(e)"
   ]
  },
  {
   "cell_type": "code",
   "execution_count": 15,
   "metadata": {},
   "outputs": [],
   "source": [
    "try:\n",
    "    cur.execute(\"INSERT INTO song_length (song_id, song_length) \\\n",
    "    VALUES(%s,%s)\", (3,145))\n",
    "except psycopg2.Error as e:\n",
    "    print(e)\n",
    "try:\n",
    "    cur.execute(\"INSERT INTO song_length (song_id, song_length) \\\n",
    "    VALUES(%s,%s)\", (4,240))\n",
    "except psycopg2.Error as e:\n",
    "    print(e)\n",
    "try:\n",
    "    cur.execute(\"INSERT INTO song_length (song_id, song_length) \\\n",
    "    VALUES(%s,%s)\", (5,227))\n",
    "except psycopg2.Error as e:\n",
    "    print(e)"
   ]
  },
  {
   "cell_type": "code",
   "execution_count": 17,
   "metadata": {},
   "outputs": [
    {
     "name": "stdout",
     "output_type": "stream",
     "text": [
      "(1, 163)\n",
      "(2, 137)\n",
      "(3, 145)\n",
      "(4, 240)\n",
      "(5, 227)\n"
     ]
    }
   ],
   "source": [
    "try:\n",
    "    cur.execute(\"SELECT * FROM song_length\")\n",
    "except psycopg2.Error as e:\n",
    "    print(e)\n",
    "row = cur.fetchone()\n",
    "while row:\n",
    "    print(row)\n",
    "    row = cur.fetchone()"
   ]
  },
  {
   "cell_type": "code",
   "execution_count": 26,
   "metadata": {},
   "outputs": [
    {
     "data": {
      "text/plain": [
       "[(1, 'The Beatles', 1, 'Rubber Soul', 1, 'Michelle', 163),\n",
       " (1, 'The Beatles', 1, 'Rubber Soul', 2, 'Think For Yourself', 137),\n",
       " (1, 'The Beatles', 1, 'Rubber Soul', 3, 'In My Life', 145),\n",
       " (1, 'The Beatles', 2, 'Let It Be', 4, 'Let It Be', 240),\n",
       " (1, 'The Beatles', 2, 'Let It Be', 5, 'Across The Universe', 227)]"
      ]
     },
     "execution_count": 26,
     "metadata": {},
     "output_type": "execute_result"
    }
   ],
   "source": [
    "cur.execute(\"SELECT ar.artist_id, ar.artist_name, ab.album_id, ab.album_name, s.song_id, s.song_name, sl.song_length \\\n",
    "FROM album_library2 ab \\\n",
    "JOIN artist_library ar \\\n",
    "ON ar.artist_id = ab.artist_id \\\n",
    "JOIN song_library2 s \\\n",
    "ON ab.album_id = s.album_id \\\n",
    "JOIN song_length sl \\\n",
    "ON s.song_id = sl.song_id\")\n",
    "cur.fetchall()"
   ]
  },
  {
   "cell_type": "code",
   "execution_count": 28,
   "metadata": {},
   "outputs": [],
   "source": [
    "#beginning the process of denormalization\n",
    "#1.creating new tables to reduce the number of joins\n",
    "\n",
    "try:\n",
    "    cur.execute(\"CREATE TABLE IF NOT EXISTS album_library3 \\\n",
    "    (album_id int, album_name varchar, artist_name varchar, year int)\")\n",
    "except psycopg2.Error as e:\n",
    "    print(e)\n",
    "try:\n",
    "    cur.execute(\"CREATE TABLE IF NOT EXISTS song_library3 \\\n",
    "    (song_id int, album_id int, song_name varchar, song_length int)\")\n",
    "except psycopg2.Error as e:\n",
    "    print(e)"
   ]
  },
  {
   "cell_type": "code",
   "execution_count": 29,
   "metadata": {},
   "outputs": [],
   "source": [
    "try:\n",
    "    cur.execute(\"INSERT INTO album_library3 (album_id, album_name, artist_name, year) \\\n",
    "    VALUES (%s,%s,%s,%s)\", \\\n",
    "    (1, \"Rubber Soul\", \"The Beatles\", 1965))\n",
    "except psycopg2.Error as e:\n",
    "    print(e)\n",
    "try:\n",
    "    cur.execute(\"INSERT INTO album_library3 (album_id, album_name, artist_name, year) \\\n",
    "    VALUES (%s,%s,%s,%s)\", \\\n",
    "    (2, \"Let It Be\", \"The Beatles\", 1970))\n",
    "except psycopg2.Error as e:\n",
    "    print(e)\n",
    "try:\n",
    "    cur.execute(\"INSERT INTO song_library3 (song_id, album_id, song_name, song_length) \\\n",
    "    VALUES (%s,%s,%s,%s)\", \\\n",
    "    (1, 1, \"Michelle\", 163))\n",
    "except psycopg2.Error as e:\n",
    "    print(e)\n",
    "try:\n",
    "    cur.execute(\"INSERT INTO song_library3 (song_id, album_id, song_name, song_length) \\\n",
    "    VALUES (%s,%s,%s,%s)\", \\\n",
    "    (2, 1, \"Think For Yourself\", 137))\n",
    "except psycopg2.Error as e:\n",
    "    print(e)\n",
    "try:\n",
    "    cur.execute(\"INSERT INTO song_library3 (song_id, album_id, song_name, song_length) \\\n",
    "    VALUES (%s,%s,%s,%s)\", \\\n",
    "    (3, 1, \"In My Life\", 145))\n",
    "except psycopg2.Error as e:\n",
    "    print(e)\n",
    "try:\n",
    "    cur.execute(\"INSERT INTO song_library3 (song_id, album_id, song_name, song_length) \\\n",
    "    VALUES (%s,%s,%s,%s)\", \\\n",
    "    (4, 2, \"Let It Be\", 240))\n",
    "except psycopg2.Error as e:\n",
    "    print(e)\n",
    "try:\n",
    "    cur.execute(\"INSERT INTO song_library3 (song_id, album_id, song_name, song_length) \\\n",
    "    VALUES (%s,%s,%s,%s)\", \\\n",
    "    (5, 2, \"Across The Universe\", 227))\n",
    "except psycopg2.Error as e:\n",
    "    print(e)"
   ]
  },
  {
   "cell_type": "code",
   "execution_count": 30,
   "metadata": {},
   "outputs": [],
   "source": [
    "#denormalization by eliminating joins\n",
    "try:\n",
    "    cur.execute(\"CREATE TABLE IF NOT EXISTS album_length \\\n",
    "    (song_id int, song_name varchar, album_name varchar, song_length int)\")\n",
    "except psycopg2.Error as e:\n",
    "    print(e)"
   ]
  },
  {
   "cell_type": "code",
   "execution_count": 31,
   "metadata": {},
   "outputs": [],
   "source": [
    "try:\n",
    "    cur.execute(\"INSERT INTO album_length (song_id, song_name, album_name, song_length) \\\n",
    "    VALUES(%s,%s,%s,%s)\", (1, \"Michelle\", \"Rubber Soul\", 163))\n",
    "except psycopg2.Error as e:\n",
    "    print(e)\n",
    "try:\n",
    "    cur.execute(\"INSERT INTO album_length (song_id, song_name, album_name, song_length) \\\n",
    "    VALUES(%s,%s,%s,%s)\", (2, \"Think For Yourself\", \"Rubber Soul\", 137))\n",
    "except psycopg2.Error as e:\n",
    "    print(e)\n",
    "try:\n",
    "    cur.execute(\"INSERT INTO album_length (song_id, song_name, album_name, song_length) \\\n",
    "    VALUES(%s,%s,%s,%s)\", (3, \"In My Life\", \"Rubber Soul\", 145))\n",
    "except psycopg2.Error as e:\n",
    "    print(e)\n",
    "try:\n",
    "    cur.execute(\"INSERT INTO album_length (song_id, song_name, album_name, song_length) \\\n",
    "    VALUES(%s,%s,%s,%s)\", (4, \"Let It Be\", \"Let It Be\", 240))\n",
    "except psycopg2.Error as e:\n",
    "    print(e)\n",
    "try:\n",
    "    cur.execute(\"INSERT INTO album_length (song_id, song_name, album_name, song_length) \\\n",
    "    VALUES(%s,%s,%s,%s)\", (5, \"Across The Universe\", \"Let It Be\", 227))\n",
    "except psycopg2.Error as e:\n",
    "    print(e)\n",
    "\n"
   ]
  },
  {
   "cell_type": "code",
   "execution_count": 35,
   "metadata": {},
   "outputs": [
    {
     "data": {
      "text/plain": [
       "[('Rubber Soul', 445), ('Let It Be', 467)]"
      ]
     },
     "execution_count": 35,
     "metadata": {},
     "output_type": "execute_result"
    }
   ],
   "source": [
    "#validating denormalization\n",
    "cur.execute(\"SELECT album_name, SUM(song_length) \\\n",
    "FROM album_length \\\n",
    "GROUP BY 1\")\n",
    "cur.fetchall()"
   ]
  },
  {
   "cell_type": "code",
   "execution_count": null,
   "metadata": {},
   "outputs": [],
   "source": [
    "#denormalization achieved and read performance increased with eliminating the usage of joins"
   ]
  },
  {
   "cell_type": "code",
   "execution_count": 36,
   "metadata": {},
   "outputs": [],
   "source": [
    "cur.close()\n",
    "conn.close()"
   ]
  },
  {
   "cell_type": "markdown",
   "metadata": {},
   "source": []
  }
 ],
 "metadata": {
  "kernelspec": {
   "display_name": "Python 3",
   "language": "python",
   "name": "python3"
  },
  "language_info": {
   "codemirror_mode": {
    "name": "ipython",
    "version": 3
   },
   "file_extension": ".py",
   "mimetype": "text/x-python",
   "name": "python",
   "nbconvert_exporter": "python",
   "pygments_lexer": "ipython3",
   "version": "3.8.5"
  }
 },
 "nbformat": 4,
 "nbformat_minor": 4
}

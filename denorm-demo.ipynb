{
 "cells": [
  {
   "cell_type": "code",
   "execution_count": 1,
   "metadata": {},
   "outputs": [],
   "source": [
    "import psycopg2"
   ]
  },
  {
   "cell_type": "code",
   "execution_count": 4,
   "metadata": {},
   "outputs": [],
   "source": [
    "try:\n",
    "    conn = psycopg2.connect(\"dbname=studentdb user=postgres password=akash99\")\n",
    "except psycopg2.Error as e:\n",
    "    print(e)"
   ]
  },
  {
   "cell_type": "code",
   "execution_count": null,
   "metadata": {},
   "outputs": [],
   "source": []
  },
  {
   "cell_type": "code",
   "execution_count": 6,
   "metadata": {},
   "outputs": [],
   "source": [
    "cur = conn.cursor()"
   ]
  },
  {
   "cell_type": "code",
   "execution_count": 8,
   "metadata": {},
   "outputs": [],
   "source": [
    "conn.set_session(autocommit=True)"
   ]
  },
  {
   "cell_type": "code",
   "execution_count": 9,
   "metadata": {},
   "outputs": [
    {
     "data": {
      "text/plain": [
       "[(1, 'Rubber Soul', 1, 1965, 1, 'The Beatles', 1, 1, 'Michelle'),\n",
       " (1, 'Rubber Soul', 1, 1965, 1, 'The Beatles', 2, 1, 'Think For Yourself'),\n",
       " (1, 'Rubber Soul', 1, 1965, 1, 'The Beatles', 3, 1, 'In My Life'),\n",
       " (2, 'Let It Be', 1, 1970, 1, 'The Beatles', 4, 2, 'Let It Be'),\n",
       " (2, 'Let It Be', 1, 1970, 1, 'The Beatles', 5, 2, 'Across The Universe')]"
      ]
     },
     "execution_count": 9,
     "metadata": {},
     "output_type": "execute_result"
    }
   ],
   "source": [
    "cur.execute(\"SELECT * FROM album_library2 ab \\\n",
    "JOIN artist_library ar \\\n",
    "ON ab.artist_id = ar.artist_id \\\n",
    "JOIN song_library2 s \\\n",
    "ON s.album_id = ab.album_id\")\n",
    "cur.fetchall()"
   ]
  },
  {
   "cell_type": "code",
   "execution_count": 11,
   "metadata": {},
   "outputs": [],
   "source": [
    "try:\n",
    "    cur.execute(\"CREATE TABLE IF NOT EXISTS song_length (song_id int, song_length int)\")\n",
    "except psycopg2.Error as e:\n",
    "    print(e)"
   ]
  },
  {
   "cell_type": "code",
   "execution_count": 13,
   "metadata": {},
   "outputs": [],
   "source": [
    "try:\n",
    "    cur.execute(\"INSERT INTO song_length (song_id, song_length) \\\n",
    "    VALUES(%s,%s)\", (1,163))\n",
    "except psycopg2.Error as e:\n",
    "    print(e)"
   ]
  },
  {
   "cell_type": "code",
   "execution_count": 14,
   "metadata": {},
   "outputs": [],
   "source": [
    "try:\n",
    "    cur.execute(\"INSERT INTO song_length (song_id, song_length) \\\n",
    "    VALUES(%s,%s)\", (2,137))\n",
    "except psycopg2.Error as e:\n",
    "    print(e)"
   ]
  },
  {
   "cell_type": "code",
   "execution_count": 15,
   "metadata": {},
   "outputs": [],
   "source": [
    "try:\n",
    "    cur.execute(\"INSERT INTO song_length (song_id, song_length) \\\n",
    "    VALUES(%s,%s)\", (3,145))\n",
    "except psycopg2.Error as e:\n",
    "    print(e)\n",
    "try:\n",
    "    cur.execute(\"INSERT INTO song_length (song_id, song_length) \\\n",
    "    VALUES(%s,%s)\", (4,240))\n",
    "except psycopg2.Error as e:\n",
    "    print(e)\n",
    "try:\n",
    "    cur.execute(\"INSERT INTO song_length (song_id, song_length) \\\n",
    "    VALUES(%s,%s)\", (5,227))\n",
    "except psycopg2.Error as e:\n",
    "    print(e)"
   ]
  },
  {
   "cell_type": "code",
   "execution_count": 17,
   "metadata": {},
   "outputs": [
    {
     "name": "stdout",
     "output_type": "stream",
     "text": [
      "(1, 163)\n",
      "(2, 137)\n",
      "(3, 145)\n",
      "(4, 240)\n",
      "(5, 227)\n"
     ]
    }
   ],
   "source": [
    "try:\n",
    "    cur.execute(\"SELECT * FROM song_length\")\n",
    "except psycopg2.Error as e:\n",
    "    print(e)\n",
    "row = cur.fetchone()\n",
    "while row:\n",
    "    print(row)\n",
    "    row = cur.fetchone()"
   ]
  },
  {
   "cell_type": "code",
   "execution_count": null,
   "metadata": {},
   "outputs": [],
   "source": []
  }
 ],
 "metadata": {
  "kernelspec": {
   "display_name": "Python 3",
   "language": "python",
   "name": "python3"
  },
  "language_info": {
   "codemirror_mode": {
    "name": "ipython",
    "version": 3
   },
   "file_extension": ".py",
   "mimetype": "text/x-python",
   "name": "python",
   "nbconvert_exporter": "python",
   "pygments_lexer": "ipython3",
   "version": "3.8.5"
  }
 },
 "nbformat": 4,
 "nbformat_minor": 4
}

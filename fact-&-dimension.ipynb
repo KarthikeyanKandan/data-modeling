{
 "cells": [
  {
   "cell_type": "code",
   "execution_count": 1,
   "metadata": {},
   "outputs": [],
   "source": [
    "import psycopg2"
   ]
  },
  {
   "cell_type": "code",
   "execution_count": 16,
   "metadata": {},
   "outputs": [],
   "source": [
    "try:\n",
    "    conn = psycopg2.connect(\"host=localhost dbname=studentdb user=postgres password=akash99\")\n",
    "except psycopg2.Error as e:\n",
    "    print(e)"
   ]
  },
  {
   "cell_type": "code",
   "execution_count": 17,
   "metadata": {},
   "outputs": [],
   "source": [
    "try:\n",
    "    cur = conn.cursor()\n",
    "except psycopg2.Error as e:\n",
    "    print(e)"
   ]
  },
  {
   "cell_type": "code",
   "execution_count": 18,
   "metadata": {},
   "outputs": [],
   "source": [
    "conn.set_session(autocommit=True)"
   ]
  },
  {
   "cell_type": "code",
   "execution_count": 21,
   "metadata": {},
   "outputs": [],
   "source": [
    "#creation of fact table\n",
    "try:\n",
    "    cur.execute(\"CREATE TABLE IF NOT EXISTS customer_transactions (customer_id int, store_id int, spent numeric)\")\n",
    "except psycopg2.Error as e:\n",
    "    print(e)"
   ]
  },
  {
   "cell_type": "code",
   "execution_count": 22,
   "metadata": {},
   "outputs": [],
   "source": [
    "#inserting data to fact table\n",
    "try:\n",
    "    cur.execute(\"INSERT INTO customer_transactions (customer_id, store_id, spent) \\\n",
    "    VALUES(%s,%s,%s)\", (1,1,20.50))\n",
    "except psycopg2.Error as e:\n",
    "    print(e)\n",
    "try:\n",
    "    cur.execute(\"INSERT INTO customer_transactions (customer_id, store_id, spent) \\\n",
    "    VALUES(%s,%s,%s)\", (2,1,35.21))\n",
    "except psycopg2.Error as e:\n",
    "    print(e)\n"
   ]
  },
  {
   "cell_type": "code",
   "execution_count": 24,
   "metadata": {},
   "outputs": [],
   "source": [
    "#create Dimension tables and insert data to those tables\n",
    "try: \n",
    "    cur.execute(\"CREATE TABLE IF NOT EXISTS customer (customer_id int, customer_name varchar, rewards boolean)\")\n",
    "except psycopg2.Error as e: \n",
    "    print(\"Error: Issue creating table\")\n",
    "    print (e)\n",
    "    \n",
    "try: \n",
    "    cur.execute(\"INSERT INTO customer (customer_id, customer_name, rewards) \\\n",
    "    VALUES(%s,%s,%s)\", (1, 'Amanda', True))\n",
    "except psycopg2.Error as e: \n",
    "    print(\"Error: Inserting Rows\")\n",
    "    print (e)\n",
    "    \n",
    "try: \n",
    "    cur.execute(\"INSERT INTO customer (customer_id, customer_name, rewards) \\\n",
    "    VALUES(%s,%s,%s)\", (2, 'Toby', False))\n",
    "except psycopg2.Error as e: \n",
    "    print(\"Error: Inserting Rows\")\n",
    "    print (e)\n",
    "    \n",
    "try: \n",
    "    cur.execute(\"CREATE TABLE IF NOT EXISTS items_purchased (customer_id int, item_number int, item_name varchar)\")\n",
    "except psycopg2.Error as e: \n",
    "    print(\"Error: Issue creating table\")\n",
    "    print (e)\n",
    "    \n",
    "try: \n",
    "    cur.execute(\"INSERT INTO items_purchased (customer_id, item_number, item_name) \\\n",
    "    VALUES(%s,%s,%s)\", (1, 1, 'Rubber Soul'))\n",
    "except psycopg2.Error as e: \n",
    "    print(\"Error: Inserting Rows\")\n",
    "    print (e)\n",
    "try: \n",
    "   cur.execute(\"INSERT INTO items_purchased (customer_id, item_number, item_name) \\\n",
    "    VALUES(%s,%s,%s)\", (2, 3, 'Let It Be'))\n",
    "except psycopg2.Error as e: \n",
    "    print(\"Error: Inserting Rows\")\n",
    "    print (e)\n",
    "    \n",
    "try: \n",
    "    cur.execute(\"CREATE TABLE IF NOT EXISTS store (store_id int, state varchar)\")\n",
    "except psycopg2.Error as e: \n",
    "    print(\"Error: Issue creating table\")\n",
    "    print (e)\n",
    "    \n",
    "try: \n",
    "    cur.execute(\"INSERT INTO store (store_id, state) \\\n",
    "    VALUES(%s,%s)\", (1, 'CA'))\n",
    "except psycopg2.Error as e: \n",
    "    print(\"Error: Inserting Rows\")\n",
    "    print (e)\n",
    "\n",
    "try: \n",
    "    cur.execute(\"INSERT INTO store (store_id, state) \\\n",
    "    VALUES(%s,%s)\", (2, 'WA'))\n",
    "except psycopg2.Error as e: \n",
    "    print(\"Error: Inserting Rows\")\n",
    "    print (e)"
   ]
  },
  {
   "cell_type": "code",
   "execution_count": 25,
   "metadata": {},
   "outputs": [
    {
     "name": "stdout",
     "output_type": "stream",
     "text": [
      "('Toby', 1, 'CA', 'Let It Be', False)\n"
     ]
    }
   ],
   "source": [
    "#validation : get all customers who spent more than 30\n",
    "try: \n",
    "    cur.execute(\"SELECT c.customer_name, s.store_id, s.state, i.item_name, c.rewards \\\n",
    "    FROM customer_transactions ct \\\n",
    "    JOIN customer c \\\n",
    "    ON ct.customer_id = c.customer_id \\\n",
    "    JOIN store s \\\n",
    "    ON s.store_id = ct.store_id \\\n",
    "    JOIN items_purchased i \\\n",
    "    ON i.customer_id = ct.customer_id \\\n",
    "    WHERE ct.spent > 30\")\n",
    "    \n",
    "    \n",
    "except psycopg2.Error as e: \n",
    "    print(\"Error: select *\")\n",
    "    print (e)\n",
    "\n",
    "row = cur.fetchone()\n",
    "while row:\n",
    "   print(row)\n",
    "   row = cur.fetchone()"
   ]
  },
  {
   "cell_type": "code",
   "execution_count": 26,
   "metadata": {},
   "outputs": [
    {
     "name": "stdout",
     "output_type": "stream",
     "text": [
      "(2, Decimal('35.21'))\n"
     ]
    }
   ],
   "source": [
    "#validation 2 : validating aggregation speed by getting the total spent by customer 2\n",
    "try: \n",
    "    cur.execute(\" SELECT ct.customer_id, SUM(ct.spent) \\\n",
    "    FROM customer_transactions ct \\\n",
    "    WHERE ct.customer_id = 2 GROUP BY ct.customer_id\")\n",
    "    \n",
    "    \n",
    "except psycopg2.Error as e: \n",
    "    print(\"Error: select *\")\n",
    "    print (e)\n",
    "\n",
    "row = cur.fetchone()\n",
    "while row:\n",
    "   print(row)\n",
    "   row = cur.fetchone()"
   ]
  },
  {
   "cell_type": "code",
   "execution_count": null,
   "metadata": {},
   "outputs": [],
   "source": []
  }
 ],
 "metadata": {
  "kernelspec": {
   "display_name": "Python 3",
   "language": "python",
   "name": "python3"
  },
  "language_info": {
   "codemirror_mode": {
    "name": "ipython",
    "version": 3
   },
   "file_extension": ".py",
   "mimetype": "text/x-python",
   "name": "python",
   "nbconvert_exporter": "python",
   "pygments_lexer": "ipython3",
   "version": "3.8.5"
  }
 },
 "nbformat": 4,
 "nbformat_minor": 4
}
